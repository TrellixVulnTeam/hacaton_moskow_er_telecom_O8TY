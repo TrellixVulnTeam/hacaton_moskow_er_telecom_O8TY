{
 "cells": [
  {
   "cell_type": "markdown",
   "metadata": {},
   "source": [
    "# Первичная обработка данных\n",
    "* читаем массив /home/al/PycharmProjects/hacaton_moskow_er_telecom/общепит_data-4275-2021-06-01.csv"
   ]
  },
  {
   "cell_type": "code",
   "execution_count": 13,
   "metadata": {},
   "outputs": [],
   "source": [
    "import pandas as pd\n",
    "import matplotlib.pyplot as plt"
   ]
  },
  {
   "cell_type": "code",
   "execution_count": 31,
   "metadata": {},
   "outputs": [],
   "source": [
    "ish_data = pd.read_csv('/home/al/PycharmProjects/hacaton_moskow_er_telecom/общепит_data-4275-2021-06-01.csv', \n",
    "                       sep = '^', header = 0)"
   ]
  },
  {
   "cell_type": "code",
   "execution_count": 32,
   "metadata": {},
   "outputs": [
    {
     "name": "stdout",
     "output_type": "stream",
     "text": [
      "       ID                                               Name  global_id  \\\n",
      "0  151635                                            СМЕТАНА  637376221   \n",
      "1   77874                                             Родник  637376331   \n",
      "2   24309                                    Кафе «Академия»  637376349   \n",
      "3   27429  ГБОУ «Школа № 1430 имени Героя Социалистическо...  637376480   \n",
      "4  148815                                           Брусника  637376481   \n",
      "\n",
      "  IsNetObject OperatingCompany TypeObject  \\\n",
      "0         нет              NaN       кафе   \n",
      "1         нет              NaN       кафе   \n",
      "2         нет              NaN       кафе   \n",
      "3         нет              NaN   столовая   \n",
      "4          да         Брусника       кафе   \n",
      "\n",
      "                                   AdmArea           District  \\\n",
      "0  Северо-Восточный административный округ  Ярославский район   \n",
      "1       Центральный административный округ    Таганский район   \n",
      "2       Центральный административный округ    Таганский район   \n",
      "3  Северо-Восточный административный округ    район Лианозово   \n",
      "4       Центральный административный округ        район Арбат   \n",
      "\n",
      "                                             Address  SeatsCount  \\\n",
      "0         город Москва, улица Егора Абакумова, дом 9          48   \n",
      "1  город Москва, улица Талалихина, дом 2/1, корпус 1          35   \n",
      "2          город Москва, Абельмановская улица, дом 6          95   \n",
      "3              город Москва, Угличская улица, дом 17         240   \n",
      "4      город Москва, переулок Сивцев Вражек, дом 6/2          10   \n",
      "\n",
      "  SocialPrivileges  Longitude_WGS84  Latitude_WGS84  \n",
      "0              нет        37.714565       55.879002  \n",
      "1              нет        37.673306       55.738239  \n",
      "2              нет        37.669648       55.735511  \n",
      "3              нет        37.566940       55.904019  \n",
      "4              нет        37.598128       55.747390  \n"
     ]
    }
   ],
   "source": [
    "print(ish_data.head(5))"
   ]
  },
  {
   "cell_type": "code",
   "execution_count": 33,
   "metadata": {},
   "outputs": [
    {
     "name": "stdout",
     "output_type": "stream",
     "text": [
      "<class 'pandas.core.frame.DataFrame'>\n",
      "RangeIndex: 17298 entries, 0 to 17297\n",
      "Data columns (total 13 columns):\n",
      " #   Column            Non-Null Count  Dtype  \n",
      "---  ------            --------------  -----  \n",
      " 0   ID                17298 non-null  int64  \n",
      " 1   Name              17298 non-null  object \n",
      " 2   global_id         17298 non-null  int64  \n",
      " 3   IsNetObject       17298 non-null  object \n",
      " 4   OperatingCompany  3380 non-null   object \n",
      " 5   TypeObject        17298 non-null  object \n",
      " 6   AdmArea           17298 non-null  object \n",
      " 7   District          17298 non-null  object \n",
      " 8   Address           17298 non-null  object \n",
      " 9   SeatsCount        17298 non-null  int64  \n",
      " 10  SocialPrivileges  17298 non-null  object \n",
      " 11  Longitude_WGS84   17298 non-null  float64\n",
      " 12  Latitude_WGS84    17298 non-null  float64\n",
      "dtypes: float64(2), int64(3), object(8)\n",
      "memory usage: 1.7+ MB\n",
      "None\n"
     ]
    }
   ],
   "source": [
    "print(ish_data.info())"
   ]
  },
  {
   "cell_type": "code",
   "execution_count": 34,
   "metadata": {},
   "outputs": [
    {
     "name": "stdout",
     "output_type": "stream",
     "text": [
      "                                                Name TypeObject  SeatsCount  \\\n",
      "0                                            СМЕТАНА       кафе          48   \n",
      "1                                             Родник       кафе          35   \n",
      "2                                    Кафе «Академия»       кафе          95   \n",
      "3  ГБОУ «Школа № 1430 имени Героя Социалистическо...   столовая         240   \n",
      "4                                           Брусника       кафе          10   \n",
      "\n",
      "   Latitude_WGS84  Longitude_WGS84  \n",
      "0       55.879002        37.714565  \n",
      "1       55.738239        37.673306  \n",
      "2       55.735511        37.669648  \n",
      "3       55.904019        37.566940  \n",
      "4       55.747390        37.598128  \n"
     ]
    }
   ],
   "source": [
    "work_data = ish_data[['Name','TypeObject','SeatsCount','Latitude_WGS84','Longitude_WGS84']]\n",
    "print(work_data.head(5))"
   ]
  },
  {
   "cell_type": "code",
   "execution_count": 37,
   "metadata": {},
   "outputs": [
    {
     "name": "stdout",
     "output_type": "stream",
     "text": [
      "TypeObject                         TypeObject                       \n",
      "бар                                бар                                  1147\n",
      "буфет                              буфет                                 495\n",
      "закусочная                         закусочная                            473\n",
      "кафе                               кафе                                 6652\n",
      "кафетерий                          кафетерий                            1030\n",
      "магазин (отдел кулинарии)          магазин (отдел кулинарии)             395\n",
      "предприятие быстрого обслуживания  предприятие быстрого обслуживания    2521\n",
      "ресторан                           ресторан                             2296\n",
      "столовая                           столовая                             2289\n",
      "Name: TypeObject, dtype: int64\n"
     ]
    }
   ],
   "source": [
    "print(work_data.groupby('TypeObject')['TypeObject'].value_counts())"
   ]
  },
  {
   "cell_type": "code",
   "execution_count": null,
   "metadata": {},
   "outputs": [],
   "source": [
    "def get_list_object(hi_point = [55.7744, 37.580], low_point = [55.7294, 37.652], array_object):\n",
    "    rez_list_objects = []\n",
    "    hi_point = [start_width, start_long], \n",
    "    low_point = [end_width, end_long]\n",
    "    return rez_list_objects"
   ]
  },
  {
   "cell_type": "code",
   "execution_count": null,
   "metadata": {},
   "outputs": [],
   "source": [
    "work_objects = get_list_object([55.7744, 37.580],[55.7294, 37.652], work_data)"
   ]
  }
 ],
 "metadata": {
  "kernelspec": {
   "display_name": "Python 3",
   "language": "python",
   "name": "python3"
  },
  "language_info": {
   "codemirror_mode": {
    "name": "ipython",
    "version": 3
   },
   "file_extension": ".py",
   "mimetype": "text/x-python",
   "name": "python",
   "nbconvert_exporter": "python",
   "pygments_lexer": "ipython3",
   "version": "3.8.5"
  }
 },
 "nbformat": 4,
 "nbformat_minor": 4
}
